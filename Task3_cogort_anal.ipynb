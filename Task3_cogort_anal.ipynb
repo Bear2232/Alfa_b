{
 "cells": [
  {
   "cell_type": "code",
   "execution_count": 1,
   "id": "ff7ac26d",
   "metadata": {
    "id": "ff7ac26d"
   },
   "outputs": [],
   "source": [
    "#Подключаем  библиотеки \n",
    "import pandas as pd\n",
    "import numpy as np\n",
    "\n",
    "from datetime import timedelta\n",
    "from datetime import datetime\n",
    "from calendar import monthrange\n",
    "\n",
    "import seaborn as sns\n",
    "\n",
    "import matplotlib.pyplot as plt\n",
    "import plotly.express as px\n",
    "\n",
    "%matplotlib inline"
   ]
  },
  {
   "cell_type": "markdown",
   "id": "9d38b608",
   "metadata": {
    "id": "9d38b608"
   },
   "source": [
    "#### в приложенном файле хранятся данные об активности клиентов с сентября 2021 года по февраль 2022\n",
    "Необходимо на основе этих данных провести когортный анализ\n",
    "\n",
    "Описание полей: \n",
    "\n",
    "CLIENT_ID - идентификатор клиента; \n",
    "\n",
    "VALUE_DAY - отчетная дата; \n",
    "\n",
    "DIGITAL_30_CNT - кол-во входов в мобильное приложение за последние 30 дней на отчетную дату; \n",
    "\n",
    "TRAN_ACTIVE_30_CNT - кол-во транзакций в мобильном приложении за последние 30 дней на отчетную дату; \n",
    "\n",
    "OPER_ACTIVE_30_CNT - кол-во операций (транзакции+нефинансовые операции) в мобильном приложении за последние 30 дней на отчетную дату\n",
    "\n",
    "●\tпостройте визуальное представление удержания клиентов в статусе:\n",
    "  ○\t активных клиентов банка (наличие строки для клиента на отчетную дату); \n",
    "  ○\tдиджитал активных (активных в мобильном приложении: наличие хотя бы одного входа);\n",
    "  ○\tоперационно активных;\n",
    "  ○\tтранзакционно активных;\n",
    "●\tкакие выводы можно сделать на основе этих данных?;\n",
    "●\tесли построить проникновение транзакционно активных клиентов в когорты диджитал активных клиентов, то мы увидим, \n",
    "что существенная часть клиентов использует мобильное приложение, но не совершает транзакции (платежи и переводы) в нем.\n",
    "Какие гипотезы такого поведения можно предположить? Как их можно проверить ?;\n",
    "\n",
    "●\tкак можно исправить эту ситуацию и увеличить проникновение транзакционно активных клиентов в диджитал активных?\n"
   ]
  },
  {
   "cell_type": "code",
   "execution_count": 2,
   "id": "aee9baaa",
   "metadata": {
    "colab": {
     "base_uri": "https://localhost:8080/",
     "height": 652
    },
    "id": "aee9baaa",
    "outputId": "ed46abbd-5901-4d23-d7d9-7c1ab19cf49b"
   },
   "outputs": [
    {
     "name": "stderr",
     "output_type": "stream",
     "text": [
      "C:\\Users\\User\\anaconda3\\lib\\site-packages\\pandas\\core\\tools\\datetimes.py:1063: UserWarning: Parsing '30.09.2021' in DD/MM/YYYY format. Provide format or specify infer_datetime_format=True for consistent parsing.\n",
      "  cache_array = _maybe_cache(arg, format, cache, convert_listlike)\n",
      "C:\\Users\\User\\anaconda3\\lib\\site-packages\\pandas\\core\\tools\\datetimes.py:1063: UserWarning: Parsing '31.10.2021' in DD/MM/YYYY format. Provide format or specify infer_datetime_format=True for consistent parsing.\n",
      "  cache_array = _maybe_cache(arg, format, cache, convert_listlike)\n",
      "C:\\Users\\User\\anaconda3\\lib\\site-packages\\pandas\\core\\tools\\datetimes.py:1063: UserWarning: Parsing '30.11.2021' in DD/MM/YYYY format. Provide format or specify infer_datetime_format=True for consistent parsing.\n",
      "  cache_array = _maybe_cache(arg, format, cache, convert_listlike)\n",
      "C:\\Users\\User\\anaconda3\\lib\\site-packages\\pandas\\core\\tools\\datetimes.py:1063: UserWarning: Parsing '31.12.2021' in DD/MM/YYYY format. Provide format or specify infer_datetime_format=True for consistent parsing.\n",
      "  cache_array = _maybe_cache(arg, format, cache, convert_listlike)\n",
      "C:\\Users\\User\\anaconda3\\lib\\site-packages\\pandas\\core\\tools\\datetimes.py:1063: UserWarning: Parsing '31.01.2022' in DD/MM/YYYY format. Provide format or specify infer_datetime_format=True for consistent parsing.\n",
      "  cache_array = _maybe_cache(arg, format, cache, convert_listlike)\n",
      "C:\\Users\\User\\anaconda3\\lib\\site-packages\\pandas\\core\\tools\\datetimes.py:1063: UserWarning: Parsing '28.02.2022' in DD/MM/YYYY format. Provide format or specify infer_datetime_format=True for consistent parsing.\n",
      "  cache_array = _maybe_cache(arg, format, cache, convert_listlike)\n"
     ]
    },
    {
     "data": {
      "text/html": [
       "<div>\n",
       "<style scoped>\n",
       "    .dataframe tbody tr th:only-of-type {\n",
       "        vertical-align: middle;\n",
       "    }\n",
       "\n",
       "    .dataframe tbody tr th {\n",
       "        vertical-align: top;\n",
       "    }\n",
       "\n",
       "    .dataframe thead th {\n",
       "        text-align: right;\n",
       "    }\n",
       "</style>\n",
       "<table border=\"1\" class=\"dataframe\">\n",
       "  <thead>\n",
       "    <tr style=\"text-align: right;\">\n",
       "      <th></th>\n",
       "      <th>CLIENT_ID</th>\n",
       "      <th>VALUE_DAY</th>\n",
       "      <th>DIGITAL_30_CNT</th>\n",
       "      <th>TRAN_ACTIVE_30_CNT</th>\n",
       "      <th>OPER_ACTIVE_30_CNT</th>\n",
       "    </tr>\n",
       "  </thead>\n",
       "  <tbody>\n",
       "    <tr>\n",
       "      <th>0</th>\n",
       "      <td>3596869440</td>\n",
       "      <td>2021-09-30</td>\n",
       "      <td>18.0</td>\n",
       "      <td>8.0</td>\n",
       "      <td>9.0</td>\n",
       "    </tr>\n",
       "    <tr>\n",
       "      <th>1</th>\n",
       "      <td>181778433</td>\n",
       "      <td>2021-09-30</td>\n",
       "      <td>7.0</td>\n",
       "      <td>3.0</td>\n",
       "      <td>3.0</td>\n",
       "    </tr>\n",
       "    <tr>\n",
       "      <th>2</th>\n",
       "      <td>4271531990</td>\n",
       "      <td>2021-09-30</td>\n",
       "      <td>2.0</td>\n",
       "      <td>0.0</td>\n",
       "      <td>0.0</td>\n",
       "    </tr>\n",
       "    <tr>\n",
       "      <th>3</th>\n",
       "      <td>3949165697</td>\n",
       "      <td>2021-09-30</td>\n",
       "      <td>15.0</td>\n",
       "      <td>4.0</td>\n",
       "      <td>5.0</td>\n",
       "    </tr>\n",
       "    <tr>\n",
       "      <th>4</th>\n",
       "      <td>1926920317</td>\n",
       "      <td>2021-09-30</td>\n",
       "      <td>3.0</td>\n",
       "      <td>0.0</td>\n",
       "      <td>0.0</td>\n",
       "    </tr>\n",
       "    <tr>\n",
       "      <th>...</th>\n",
       "      <td>...</td>\n",
       "      <td>...</td>\n",
       "      <td>...</td>\n",
       "      <td>...</td>\n",
       "      <td>...</td>\n",
       "    </tr>\n",
       "    <tr>\n",
       "      <th>805816</th>\n",
       "      <td>4243322997</td>\n",
       "      <td>2022-02-28</td>\n",
       "      <td>2.0</td>\n",
       "      <td>0.0</td>\n",
       "      <td>0.0</td>\n",
       "    </tr>\n",
       "    <tr>\n",
       "      <th>805817</th>\n",
       "      <td>67461867</td>\n",
       "      <td>2022-02-28</td>\n",
       "      <td>3.0</td>\n",
       "      <td>0.0</td>\n",
       "      <td>0.0</td>\n",
       "    </tr>\n",
       "    <tr>\n",
       "      <th>805818</th>\n",
       "      <td>302417315</td>\n",
       "      <td>2022-02-28</td>\n",
       "      <td>NaN</td>\n",
       "      <td>NaN</td>\n",
       "      <td>NaN</td>\n",
       "    </tr>\n",
       "    <tr>\n",
       "      <th>805819</th>\n",
       "      <td>1780553365</td>\n",
       "      <td>2022-02-28</td>\n",
       "      <td>4.0</td>\n",
       "      <td>0.0</td>\n",
       "      <td>2.0</td>\n",
       "    </tr>\n",
       "    <tr>\n",
       "      <th>805820</th>\n",
       "      <td>798087856</td>\n",
       "      <td>2022-02-28</td>\n",
       "      <td>4.0</td>\n",
       "      <td>0.0</td>\n",
       "      <td>0.0</td>\n",
       "    </tr>\n",
       "  </tbody>\n",
       "</table>\n",
       "<p>805821 rows × 5 columns</p>\n",
       "</div>"
      ],
      "text/plain": [
       "         CLIENT_ID  VALUE_DAY  DIGITAL_30_CNT  TRAN_ACTIVE_30_CNT  \\\n",
       "0       3596869440 2021-09-30            18.0                 8.0   \n",
       "1        181778433 2021-09-30             7.0                 3.0   \n",
       "2       4271531990 2021-09-30             2.0                 0.0   \n",
       "3       3949165697 2021-09-30            15.0                 4.0   \n",
       "4       1926920317 2021-09-30             3.0                 0.0   \n",
       "...            ...        ...             ...                 ...   \n",
       "805816  4243322997 2022-02-28             2.0                 0.0   \n",
       "805817    67461867 2022-02-28             3.0                 0.0   \n",
       "805818   302417315 2022-02-28             NaN                 NaN   \n",
       "805819  1780553365 2022-02-28             4.0                 0.0   \n",
       "805820   798087856 2022-02-28             4.0                 0.0   \n",
       "\n",
       "        OPER_ACTIVE_30_CNT  \n",
       "0                      9.0  \n",
       "1                      3.0  \n",
       "2                      0.0  \n",
       "3                      5.0  \n",
       "4                      0.0  \n",
       "...                    ...  \n",
       "805816                 0.0  \n",
       "805817                 0.0  \n",
       "805818                 NaN  \n",
       "805819                 2.0  \n",
       "805820                 0.0  \n",
       "\n",
       "[805821 rows x 5 columns]"
      ]
     },
     "execution_count": 2,
     "metadata": {},
     "output_type": "execute_result"
    }
   ],
   "source": [
    "#Загружаем файлы для анализа\n",
    "data= pd.read_csv('https://raw.githubusercontent.com/Propsih/test/main/data_test.csv ', \n",
    "                  sep=';', \n",
    "                  parse_dates=['VALUE_DAY']) \n",
    "data"
   ]
  },
  {
   "cell_type": "code",
   "execution_count": 3,
   "id": "3ca33c06",
   "metadata": {
    "colab": {
     "base_uri": "https://localhost:8080/"
    },
    "id": "3ca33c06",
    "outputId": "fb5b8214-2f18-4abd-dfc7-4c79f13ef122"
   },
   "outputs": [
    {
     "data": {
      "text/plain": [
       "CLIENT_ID                 0\n",
       "VALUE_DAY                 0\n",
       "DIGITAL_30_CNT        94652\n",
       "TRAN_ACTIVE_30_CNT    94652\n",
       "OPER_ACTIVE_30_CNT    94652\n",
       "dtype: int64"
      ]
     },
     "execution_count": 3,
     "metadata": {},
     "output_type": "execute_result"
    }
   ],
   "source": [
    "# Посмотрим на количество пропущенных значений\n",
    "data.isna().sum()"
   ]
  },
  {
   "cell_type": "code",
   "execution_count": 4,
   "id": "6ae89a9d",
   "metadata": {
    "colab": {
     "base_uri": "https://localhost:8080/"
    },
    "id": "6ae89a9d",
    "outputId": "35a34602-8634-41c4-d015-e901695a2a28"
   },
   "outputs": [
    {
     "data": {
      "text/plain": [
       "CLIENT_ID                      int64\n",
       "VALUE_DAY             datetime64[ns]\n",
       "DIGITAL_30_CNT               float64\n",
       "TRAN_ACTIVE_30_CNT           float64\n",
       "OPER_ACTIVE_30_CNT           float64\n",
       "dtype: object"
      ]
     },
     "execution_count": 4,
     "metadata": {},
     "output_type": "execute_result"
    }
   ],
   "source": [
    "data.dtypes # тип данных "
   ]
  },
  {
   "cell_type": "code",
   "execution_count": 5,
   "id": "c92cdcf2",
   "metadata": {
    "id": "c92cdcf2"
   },
   "outputs": [],
   "source": [
    "# определение когорт по месяцу первой транзакции клиента\n",
    "data['COHORT_MONTH'] = data.groupby('CLIENT_ID')['VALUE_DAY'].transform('min').dt.to_period('M')"
   ]
  },
  {
   "cell_type": "code",
   "execution_count": 6,
   "id": "82a97549",
   "metadata": {
    "colab": {
     "base_uri": "https://localhost:8080/",
     "height": 424
    },
    "id": "82a97549",
    "outputId": "8f40f35a-6a44-43f4-c56e-caa31752518a"
   },
   "outputs": [
    {
     "data": {
      "text/html": [
       "<div>\n",
       "<style scoped>\n",
       "    .dataframe tbody tr th:only-of-type {\n",
       "        vertical-align: middle;\n",
       "    }\n",
       "\n",
       "    .dataframe tbody tr th {\n",
       "        vertical-align: top;\n",
       "    }\n",
       "\n",
       "    .dataframe thead th {\n",
       "        text-align: right;\n",
       "    }\n",
       "</style>\n",
       "<table border=\"1\" class=\"dataframe\">\n",
       "  <thead>\n",
       "    <tr style=\"text-align: right;\">\n",
       "      <th></th>\n",
       "      <th>CLIENT_ID</th>\n",
       "      <th>VALUE_DAY</th>\n",
       "      <th>DIGITAL_30_CNT</th>\n",
       "      <th>TRAN_ACTIVE_30_CNT</th>\n",
       "      <th>OPER_ACTIVE_30_CNT</th>\n",
       "      <th>COHORT_MONTH</th>\n",
       "      <th>TRANSACTION_MONTH</th>\n",
       "    </tr>\n",
       "  </thead>\n",
       "  <tbody>\n",
       "    <tr>\n",
       "      <th>0</th>\n",
       "      <td>3596869440</td>\n",
       "      <td>2021-09-30</td>\n",
       "      <td>18.0</td>\n",
       "      <td>8.0</td>\n",
       "      <td>9.0</td>\n",
       "      <td>2021-09</td>\n",
       "      <td>2021-09</td>\n",
       "    </tr>\n",
       "    <tr>\n",
       "      <th>1</th>\n",
       "      <td>181778433</td>\n",
       "      <td>2021-09-30</td>\n",
       "      <td>7.0</td>\n",
       "      <td>3.0</td>\n",
       "      <td>3.0</td>\n",
       "      <td>2021-09</td>\n",
       "      <td>2021-09</td>\n",
       "    </tr>\n",
       "    <tr>\n",
       "      <th>2</th>\n",
       "      <td>4271531990</td>\n",
       "      <td>2021-09-30</td>\n",
       "      <td>2.0</td>\n",
       "      <td>0.0</td>\n",
       "      <td>0.0</td>\n",
       "      <td>2021-09</td>\n",
       "      <td>2021-09</td>\n",
       "    </tr>\n",
       "    <tr>\n",
       "      <th>3</th>\n",
       "      <td>3949165697</td>\n",
       "      <td>2021-09-30</td>\n",
       "      <td>15.0</td>\n",
       "      <td>4.0</td>\n",
       "      <td>5.0</td>\n",
       "      <td>2021-09</td>\n",
       "      <td>2021-09</td>\n",
       "    </tr>\n",
       "    <tr>\n",
       "      <th>4</th>\n",
       "      <td>1926920317</td>\n",
       "      <td>2021-09-30</td>\n",
       "      <td>3.0</td>\n",
       "      <td>0.0</td>\n",
       "      <td>0.0</td>\n",
       "      <td>2021-09</td>\n",
       "      <td>2021-09</td>\n",
       "    </tr>\n",
       "    <tr>\n",
       "      <th>...</th>\n",
       "      <td>...</td>\n",
       "      <td>...</td>\n",
       "      <td>...</td>\n",
       "      <td>...</td>\n",
       "      <td>...</td>\n",
       "      <td>...</td>\n",
       "      <td>...</td>\n",
       "    </tr>\n",
       "    <tr>\n",
       "      <th>805816</th>\n",
       "      <td>4243322997</td>\n",
       "      <td>2022-02-28</td>\n",
       "      <td>2.0</td>\n",
       "      <td>0.0</td>\n",
       "      <td>0.0</td>\n",
       "      <td>2021-09</td>\n",
       "      <td>2022-02</td>\n",
       "    </tr>\n",
       "    <tr>\n",
       "      <th>805817</th>\n",
       "      <td>67461867</td>\n",
       "      <td>2022-02-28</td>\n",
       "      <td>3.0</td>\n",
       "      <td>0.0</td>\n",
       "      <td>0.0</td>\n",
       "      <td>2021-09</td>\n",
       "      <td>2022-02</td>\n",
       "    </tr>\n",
       "    <tr>\n",
       "      <th>805818</th>\n",
       "      <td>302417315</td>\n",
       "      <td>2022-02-28</td>\n",
       "      <td>NaN</td>\n",
       "      <td>NaN</td>\n",
       "      <td>NaN</td>\n",
       "      <td>2021-09</td>\n",
       "      <td>2022-02</td>\n",
       "    </tr>\n",
       "    <tr>\n",
       "      <th>805819</th>\n",
       "      <td>1780553365</td>\n",
       "      <td>2022-02-28</td>\n",
       "      <td>4.0</td>\n",
       "      <td>0.0</td>\n",
       "      <td>2.0</td>\n",
       "      <td>2022-01</td>\n",
       "      <td>2022-02</td>\n",
       "    </tr>\n",
       "    <tr>\n",
       "      <th>805820</th>\n",
       "      <td>798087856</td>\n",
       "      <td>2022-02-28</td>\n",
       "      <td>4.0</td>\n",
       "      <td>0.0</td>\n",
       "      <td>0.0</td>\n",
       "      <td>2021-10</td>\n",
       "      <td>2022-02</td>\n",
       "    </tr>\n",
       "  </tbody>\n",
       "</table>\n",
       "<p>805821 rows × 7 columns</p>\n",
       "</div>"
      ],
      "text/plain": [
       "         CLIENT_ID  VALUE_DAY  DIGITAL_30_CNT  TRAN_ACTIVE_30_CNT  \\\n",
       "0       3596869440 2021-09-30            18.0                 8.0   \n",
       "1        181778433 2021-09-30             7.0                 3.0   \n",
       "2       4271531990 2021-09-30             2.0                 0.0   \n",
       "3       3949165697 2021-09-30            15.0                 4.0   \n",
       "4       1926920317 2021-09-30             3.0                 0.0   \n",
       "...            ...        ...             ...                 ...   \n",
       "805816  4243322997 2022-02-28             2.0                 0.0   \n",
       "805817    67461867 2022-02-28             3.0                 0.0   \n",
       "805818   302417315 2022-02-28             NaN                 NaN   \n",
       "805819  1780553365 2022-02-28             4.0                 0.0   \n",
       "805820   798087856 2022-02-28             4.0                 0.0   \n",
       "\n",
       "        OPER_ACTIVE_30_CNT COHORT_MONTH TRANSACTION_MONTH  \n",
       "0                      9.0      2021-09           2021-09  \n",
       "1                      3.0      2021-09           2021-09  \n",
       "2                      0.0      2021-09           2021-09  \n",
       "3                      5.0      2021-09           2021-09  \n",
       "4                      0.0      2021-09           2021-09  \n",
       "...                    ...          ...               ...  \n",
       "805816                 0.0      2021-09           2022-02  \n",
       "805817                 0.0      2021-09           2022-02  \n",
       "805818                 NaN      2021-09           2022-02  \n",
       "805819                 2.0      2022-01           2022-02  \n",
       "805820                 0.0      2021-10           2022-02  \n",
       "\n",
       "[805821 rows x 7 columns]"
      ]
     },
     "execution_count": 6,
     "metadata": {},
     "output_type": "execute_result"
    }
   ],
   "source": [
    "# определение месяца для каждой транзакции\n",
    "data['TRANSACTION_MONTH'] =data['VALUE_DAY'].dt.to_period('M')\n",
    "data"
   ]
  },
  {
   "cell_type": "code",
   "execution_count": 7,
   "id": "08c73993",
   "metadata": {
    "colab": {
     "base_uri": "https://localhost:8080/",
     "height": 708
    },
    "id": "08c73993",
    "outputId": "88a4bd68-ba02-4978-c998-9b92898f502f"
   },
   "outputs": [
    {
     "data": {
      "text/html": [
       "<div>\n",
       "<style scoped>\n",
       "    .dataframe tbody tr th:only-of-type {\n",
       "        vertical-align: middle;\n",
       "    }\n",
       "\n",
       "    .dataframe tbody tr th {\n",
       "        vertical-align: top;\n",
       "    }\n",
       "\n",
       "    .dataframe thead th {\n",
       "        text-align: right;\n",
       "    }\n",
       "</style>\n",
       "<table border=\"1\" class=\"dataframe\">\n",
       "  <thead>\n",
       "    <tr style=\"text-align: right;\">\n",
       "      <th></th>\n",
       "      <th>COHORT_MONTH</th>\n",
       "      <th>TRANSACTION_MONTH</th>\n",
       "      <th>n_customers</th>\n",
       "      <th>PERIOD_NUMBER</th>\n",
       "    </tr>\n",
       "  </thead>\n",
       "  <tbody>\n",
       "    <tr>\n",
       "      <th>0</th>\n",
       "      <td>2021-09</td>\n",
       "      <td>2021-09</td>\n",
       "      <td>129232</td>\n",
       "      <td>0</td>\n",
       "    </tr>\n",
       "    <tr>\n",
       "      <th>1</th>\n",
       "      <td>2021-09</td>\n",
       "      <td>2021-10</td>\n",
       "      <td>124593</td>\n",
       "      <td>1</td>\n",
       "    </tr>\n",
       "    <tr>\n",
       "      <th>2</th>\n",
       "      <td>2021-09</td>\n",
       "      <td>2021-11</td>\n",
       "      <td>120232</td>\n",
       "      <td>2</td>\n",
       "    </tr>\n",
       "    <tr>\n",
       "      <th>3</th>\n",
       "      <td>2021-09</td>\n",
       "      <td>2021-12</td>\n",
       "      <td>116456</td>\n",
       "      <td>3</td>\n",
       "    </tr>\n",
       "    <tr>\n",
       "      <th>4</th>\n",
       "      <td>2021-09</td>\n",
       "      <td>2022-01</td>\n",
       "      <td>105547</td>\n",
       "      <td>4</td>\n",
       "    </tr>\n",
       "    <tr>\n",
       "      <th>5</th>\n",
       "      <td>2021-09</td>\n",
       "      <td>2022-02</td>\n",
       "      <td>104163</td>\n",
       "      <td>5</td>\n",
       "    </tr>\n",
       "    <tr>\n",
       "      <th>6</th>\n",
       "      <td>2021-10</td>\n",
       "      <td>2021-10</td>\n",
       "      <td>7044</td>\n",
       "      <td>0</td>\n",
       "    </tr>\n",
       "    <tr>\n",
       "      <th>7</th>\n",
       "      <td>2021-10</td>\n",
       "      <td>2021-11</td>\n",
       "      <td>6936</td>\n",
       "      <td>1</td>\n",
       "    </tr>\n",
       "    <tr>\n",
       "      <th>8</th>\n",
       "      <td>2021-10</td>\n",
       "      <td>2021-12</td>\n",
       "      <td>6883</td>\n",
       "      <td>2</td>\n",
       "    </tr>\n",
       "    <tr>\n",
       "      <th>9</th>\n",
       "      <td>2021-10</td>\n",
       "      <td>2022-01</td>\n",
       "      <td>5040</td>\n",
       "      <td>3</td>\n",
       "    </tr>\n",
       "    <tr>\n",
       "      <th>10</th>\n",
       "      <td>2021-10</td>\n",
       "      <td>2022-02</td>\n",
       "      <td>4800</td>\n",
       "      <td>4</td>\n",
       "    </tr>\n",
       "    <tr>\n",
       "      <th>11</th>\n",
       "      <td>2021-11</td>\n",
       "      <td>2021-11</td>\n",
       "      <td>5841</td>\n",
       "      <td>0</td>\n",
       "    </tr>\n",
       "    <tr>\n",
       "      <th>12</th>\n",
       "      <td>2021-11</td>\n",
       "      <td>2021-12</td>\n",
       "      <td>5743</td>\n",
       "      <td>1</td>\n",
       "    </tr>\n",
       "    <tr>\n",
       "      <th>13</th>\n",
       "      <td>2021-11</td>\n",
       "      <td>2022-01</td>\n",
       "      <td>5225</td>\n",
       "      <td>2</td>\n",
       "    </tr>\n",
       "    <tr>\n",
       "      <th>14</th>\n",
       "      <td>2021-11</td>\n",
       "      <td>2022-02</td>\n",
       "      <td>4377</td>\n",
       "      <td>3</td>\n",
       "    </tr>\n",
       "    <tr>\n",
       "      <th>15</th>\n",
       "      <td>2021-12</td>\n",
       "      <td>2021-12</td>\n",
       "      <td>6875</td>\n",
       "      <td>0</td>\n",
       "    </tr>\n",
       "    <tr>\n",
       "      <th>16</th>\n",
       "      <td>2021-12</td>\n",
       "      <td>2022-01</td>\n",
       "      <td>6188</td>\n",
       "      <td>1</td>\n",
       "    </tr>\n",
       "    <tr>\n",
       "      <th>17</th>\n",
       "      <td>2021-12</td>\n",
       "      <td>2022-02</td>\n",
       "      <td>6170</td>\n",
       "      <td>2</td>\n",
       "    </tr>\n",
       "    <tr>\n",
       "      <th>18</th>\n",
       "      <td>2022-01</td>\n",
       "      <td>2022-01</td>\n",
       "      <td>14770</td>\n",
       "      <td>0</td>\n",
       "    </tr>\n",
       "    <tr>\n",
       "      <th>19</th>\n",
       "      <td>2022-01</td>\n",
       "      <td>2022-02</td>\n",
       "      <td>14374</td>\n",
       "      <td>1</td>\n",
       "    </tr>\n",
       "    <tr>\n",
       "      <th>20</th>\n",
       "      <td>2022-02</td>\n",
       "      <td>2022-02</td>\n",
       "      <td>5330</td>\n",
       "      <td>0</td>\n",
       "    </tr>\n",
       "  </tbody>\n",
       "</table>\n",
       "</div>"
      ],
      "text/plain": [
       "   COHORT_MONTH TRANSACTION_MONTH  n_customers  PERIOD_NUMBER\n",
       "0       2021-09           2021-09       129232              0\n",
       "1       2021-09           2021-10       124593              1\n",
       "2       2021-09           2021-11       120232              2\n",
       "3       2021-09           2021-12       116456              3\n",
       "4       2021-09           2022-01       105547              4\n",
       "5       2021-09           2022-02       104163              5\n",
       "6       2021-10           2021-10         7044              0\n",
       "7       2021-10           2021-11         6936              1\n",
       "8       2021-10           2021-12         6883              2\n",
       "9       2021-10           2022-01         5040              3\n",
       "10      2021-10           2022-02         4800              4\n",
       "11      2021-11           2021-11         5841              0\n",
       "12      2021-11           2021-12         5743              1\n",
       "13      2021-11           2022-01         5225              2\n",
       "14      2021-11           2022-02         4377              3\n",
       "15      2021-12           2021-12         6875              0\n",
       "16      2021-12           2022-01         6188              1\n",
       "17      2021-12           2022-02         6170              2\n",
       "18      2022-01           2022-01        14770              0\n",
       "19      2022-01           2022-02        14374              1\n",
       "20      2022-02           2022-02         5330              0"
      ]
     },
     "execution_count": 7,
     "metadata": {},
     "output_type": "execute_result"
    }
   ],
   "source": [
    "# определение размера когорты\n",
    "cohort_data = data.groupby(['COHORT_MONTH', 'TRANSACTION_MONTH']).agg(n_customers=('CLIENT_ID', 'nunique')).reset_index()\n",
    "cohort_data['PERIOD_NUMBER'] = (cohort_data['TRANSACTION_MONTH'] - cohort_data['COHORT_MONTH']).apply(lambda x: x.n)\n",
    "cohort_data"
   ]
  },
  {
   "cell_type": "code",
   "execution_count": 8,
   "id": "1804622a",
   "metadata": {
    "id": "1804622a"
   },
   "outputs": [],
   "source": [
    "# расчет retention rate\n",
    "cohort_data = cohort_data.pivot_table(index='COHORT_MONTH',\n",
    "                                      columns='PERIOD_NUMBER',\n",
    "                                      values='n_customers')\n",
    "cohort_size = cohort_data.iloc[:, 0]\n",
    "retention_matrix = cohort_data.divide(cohort_size, axis=0)"
   ]
  },
  {
   "cell_type": "code",
   "execution_count": 9,
   "id": "19279211",
   "metadata": {
    "colab": {
     "base_uri": "https://localhost:8080/",
     "height": 718
    },
    "id": "19279211",
    "outputId": "940e2916-5872-45a2-8108-09f8499e4069"
   },
   "outputs": [
    {
     "data": {
      "image/png": "[encoded data removed]",
      "text/plain": [
       "<Figure size 720x576 with 2 Axes>"
      ]
     },
     "metadata": {
      "needs_background": "light"
     },
     "output_type": "display_data"
    }
   ],
   "source": [
    "# визуализация retention rate\n",
    "plt.figure(figsize=(10, 8))\n",
    "plt.title('Retention rate')\n",
    "sns.heatmap(retention_matrix, annot=True, fmt='.2%', cmap='YlGnBu')\n",
    "plt.show()"
   ]
  },
  {
   "cell_type": "code",
   "execution_count": 10,
   "id": "Q2KMHsh8jp8E",
   "metadata": {
    "colab": {
     "base_uri": "https://localhost:8080/",
     "height": 238
    },
    "id": "Q2KMHsh8jp8E",
    "outputId": "1879983e-d013-4ee7-99b9-8ebafcbe26da"
   },
   "outputs": [
    {
     "data": {
      "text/html": [
       "<div>\n",
       "<style scoped>\n",
       "    .dataframe tbody tr th:only-of-type {\n",
       "        vertical-align: middle;\n",
       "    }\n",
       "\n",
       "    .dataframe tbody tr th {\n",
       "        vertical-align: top;\n",
       "    }\n",
       "\n",
       "    .dataframe thead th {\n",
       "        text-align: right;\n",
       "    }\n",
       "</style>\n",
       "<table border=\"1\" class=\"dataframe\">\n",
       "  <thead>\n",
       "    <tr style=\"text-align: right;\">\n",
       "      <th></th>\n",
       "      <th>TRANSACTION_MONTH</th>\n",
       "      <th>active_clients</th>\n",
       "    </tr>\n",
       "  </thead>\n",
       "  <tbody>\n",
       "    <tr>\n",
       "      <th>0</th>\n",
       "      <td>2021-09</td>\n",
       "      <td>129232</td>\n",
       "    </tr>\n",
       "    <tr>\n",
       "      <th>1</th>\n",
       "      <td>2021-10</td>\n",
       "      <td>131637</td>\n",
       "    </tr>\n",
       "    <tr>\n",
       "      <th>2</th>\n",
       "      <td>2021-11</td>\n",
       "      <td>133009</td>\n",
       "    </tr>\n",
       "    <tr>\n",
       "      <th>3</th>\n",
       "      <td>2021-12</td>\n",
       "      <td>135957</td>\n",
       "    </tr>\n",
       "    <tr>\n",
       "      <th>4</th>\n",
       "      <td>2022-01</td>\n",
       "      <td>136770</td>\n",
       "    </tr>\n",
       "    <tr>\n",
       "      <th>5</th>\n",
       "      <td>2022-02</td>\n",
       "      <td>139214</td>\n",
       "    </tr>\n",
       "  </tbody>\n",
       "</table>\n",
       "</div>"
      ],
      "text/plain": [
       "  TRANSACTION_MONTH  active_clients\n",
       "0           2021-09          129232\n",
       "1           2021-10          131637\n",
       "2           2021-11          133009\n",
       "3           2021-12          135957\n",
       "4           2022-01          136770\n",
       "5           2022-02          139214"
      ]
     },
     "execution_count": 10,
     "metadata": {},
     "output_type": "execute_result"
    }
   ],
   "source": [
    "# визуализация активных клиентов\n",
    "active_clients = data.groupby(['TRANSACTION_MONTH']).agg(active_clients=('CLIENT_ID', 'nunique')).reset_index()\n",
    "active_clients"
   ]
  },
  {
   "cell_type": "code",
   "execution_count": 11,
   "id": "ClFlCFCXlQ2v",
   "metadata": {
    "colab": {
     "base_uri": "https://localhost:8080/"
    },
    "id": "ClFlCFCXlQ2v",
    "outputId": "2204b5c0-0d3c-43cc-e759-9195e4abe7d1"
   },
   "outputs": [
    {
     "name": "stdout",
     "output_type": "stream",
     "text": [
      "<class 'pandas.core.frame.DataFrame'>\n",
      "RangeIndex: 6 entries, 0 to 5\n",
      "Data columns (total 2 columns):\n",
      " #   Column             Non-Null Count  Dtype    \n",
      "---  ------             --------------  -----    \n",
      " 0   TRANSACTION_MONTH  6 non-null      period[M]\n",
      " 1   active_clients     6 non-null      int64    \n",
      "dtypes: int64(1), period[M](1)\n",
      "memory usage: 224.0 bytes\n"
     ]
    }
   ],
   "source": [
    "active_clients.info()"
   ]
  },
  {
   "cell_type": "code",
   "execution_count": 12,
   "id": "1qY1oJ-OnHG9",
   "metadata": {
    "colab": {
     "base_uri": "https://localhost:8080/"
    },
    "id": "1qY1oJ-OnHG9",
    "outputId": "23119c5a-d4fe-4621-9911-7bafac0d5ab5"
   },
   "outputs": [
    {
     "data": {
      "text/plain": [
       "TRANSACTION_MONTH    datetime64[ns]\n",
       "active_clients                int64\n",
       "dtype: object"
      ]
     },
     "execution_count": 12,
     "metadata": {},
     "output_type": "execute_result"
    }
   ],
   "source": [
    "active_clients['TRANSACTION_MONTH'] = active_clients['TRANSACTION_MONTH'].astype(str)\n",
    "active_clients['TRANSACTION_MONTH'] = pd.to_datetime(active_clients['TRANSACTION_MONTH'])\n",
    "active_clients.dtypes"
   ]
  },
  {
   "cell_type": "code",
   "execution_count": 13,
   "id": "LCNL2jXxk3Y_",
   "metadata": {
    "colab": {
     "base_uri": "https://localhost:8080/",
     "height": 718
    },
    "id": "LCNL2jXxk3Y_",
    "outputId": "394defd1-8054-4bd2-d1ed-efdeb5f574b6"
   },
   "outputs": [
    {
     "data": {
      "image/png": "[encoded data removed]",
      "text/plain": [
       "<Figure size 720x576 with 1 Axes>"
      ]
     },
     "metadata": {
      "needs_background": "light"
     },
     "output_type": "display_data"
    }
   ],
   "source": [
    "# визуализация активных клиентов\n",
    "plt.figure(figsize=(10, 8))\n",
    "plt.title('Active clients')\n",
    "sns.lineplot(x='TRANSACTION_MONTH', y='active_clients', data = active_clients)\n",
    "plt.show()"
   ]
  },
  {
   "cell_type": "code",
   "execution_count": 14,
   "id": "-neAUbLcoSGW",
   "metadata": {
    "id": "-neAUbLcoSGW"
   },
   "outputs": [],
   "source": [
    "# визуализация digital-активных клиентов\n",
    "digital_active = data[data['DIGITAL_30_CNT'] > 0]\n",
    "digital_active_clients = digital_active.groupby(['TRANSACTION_MONTH']).agg(digital_active_clients=('CLIENT_ID', 'nunique')).reset_index()"
   ]
  },
  {
   "cell_type": "code",
   "execution_count": 15,
   "id": "WsRs6vWtoWI9",
   "metadata": {
    "colab": {
     "base_uri": "https://localhost:8080/"
    },
    "id": "WsRs6vWtoWI9",
    "outputId": "208a6bca-e177-4c45-8340-457a5d531191"
   },
   "outputs": [
    {
     "data": {
      "text/plain": [
       "TRANSACTION_MONTH    datetime64[ns]\n",
       "active_clients                int64\n",
       "dtype: object"
      ]
     },
     "execution_count": 15,
     "metadata": {},
     "output_type": "execute_result"
    }
   ],
   "source": [
    "digital_active_clients['TRANSACTION_MONTH'] = digital_active_clients['TRANSACTION_MONTH'].astype(str)\n",
    "digital_active_clients['TRANSACTION_MONTH'] = pd.to_datetime(digital_active_clients['TRANSACTION_MONTH'])\n",
    "active_clients.dtypes"
   ]
  },
  {
   "cell_type": "code",
   "execution_count": 16,
   "id": "8cc05e65",
   "metadata": {
    "colab": {
     "base_uri": "https://localhost:8080/",
     "height": 718
    },
    "id": "8cc05e65",
    "outputId": "dc6dffa6-41b3-4bcb-ea26-6840e9bbb03c"
   },
   "outputs": [
    {
     "data": {
      "image/png": "[encoded data removed]",
      "text/plain": [
       "<Figure size 720x576 with 1 Axes>"
      ]
     },
     "metadata": {
      "needs_background": "light"
     },
     "output_type": "display_data"
    }
   ],
   "source": [
    "plt.figure(figsize=(10, 8))\n",
    "plt.title('Digital active clients')\n",
    "sns.lineplot(x='TRANSACTION_MONTH', y='digital_active_clients', data=digital_active_clients)\n",
    "plt.show()"
   ]
  },
  {
   "cell_type": "code",
   "execution_count": 17,
   "id": "03cec62a",
   "metadata": {
    "colab": {
     "base_uri": "https://localhost:8080/",
     "height": 718
    },
    "id": "03cec62a",
    "outputId": "85cc9356-e534-4f62-a1de-8877c9570a04"
   },
   "outputs": [
    {
     "data": {
      "image/png": "[encoded data removed]",
      "text/plain": [
       "<Figure size 720x576 with 1 Axes>"
      ]
     },
     "metadata": {
      "needs_background": "light"
     },
     "output_type": "display_data"
    }
   ],
   "source": [
    "# визуализация операционно активных клиентов\n",
    "oper_active = data[data['OPER_ACTIVE_30_CNT'] > 0] \n",
    "oper_active_clients = oper_active.groupby(['TRANSACTION_MONTH'])\\\n",
    "    .agg(oper_active_clients=('CLIENT_ID', 'nunique'))\\\n",
    "    .reset_index() \n",
    "\n",
    "oper_active_clients['TRANSACTION_MONTH'] = oper_active_clients['TRANSACTION_MONTH'].astype(str)\n",
    "oper_active_clients['TRANSACTION_MONTH'] = pd.to_datetime(oper_active_clients['TRANSACTION_MONTH'])\n",
    "oper_active_clients.dtypes\n",
    "\n",
    "plt.figure(figsize=(10, 8)) \n",
    "plt.title('Operational active clients') \n",
    "sns.lineplot(x='TRANSACTION_MONTH', y='oper_active_clients', data=oper_active_clients) \n",
    "plt.show()"
   ]
  },
  {
   "cell_type": "code",
   "execution_count": 18,
   "id": "7950d3ea",
   "metadata": {
    "colab": {
     "base_uri": "https://localhost:8080/",
     "height": 718
    },
    "id": "7950d3ea",
    "outputId": "6adbec32-98ee-4723-979f-bb8498a7e027"
   },
   "outputs": [
    {
     "data": {
      "image/png": "[encoded data removed]",
      "text/plain": [
       "<Figure size 720x576 with 1 Axes>"
      ]
     },
     "metadata": {
      "needs_background": "light"
     },
     "output_type": "display_data"
    }
   ],
   "source": [
    "#визуализация транзакционно активных клиентов\n",
    "tran_active = data[data['TRAN_ACTIVE_30_CNT'] > 0] \n",
    "tran_active_clients = tran_active.groupby(['TRANSACTION_MONTH'])\\\n",
    "    .agg(tran_active_clients=('CLIENT_ID', 'nunique')).reset_index() \n",
    "\n",
    "tran_active_clients['TRANSACTION_MONTH'] = tran_active_clients['TRANSACTION_MONTH'].astype(str)\n",
    "tran_active_clients['TRANSACTION_MONTH'] = pd.to_datetime(tran_active_clients['TRANSACTION_MONTH'])\n",
    "tran_active_clients.dtypes\n",
    "\n",
    "plt.figure(figsize=(10, 8)) \n",
    "plt.title('Transactional active clients') \n",
    "sns.lineplot(x='TRANSACTION_MONTH', y='tran_active_clients', data=tran_active_clients) \n",
    "plt.show()"
   ]
  },
  {
   "cell_type": "markdown",
   "id": "60120dab",
   "metadata": {
    "id": "60120dab"
   },
   "source": [
    "## Выводы \n",
    "\n",
    "### 1. Из данных можно сделать следующие выводы:\n",
    "\n",
    "• Количество транзакционно активных клиентов увеличивается со временем, однако рост не является стабильным и может зависеть от сезонности.\n",
    "\n",
    "• Отношение количества активных клиентов в каждую когорту к первоначальному количеству клиентов показывает, что клиенты, присоединившиеся в более ранние когорты, имеют более высокий retention rate, чем клиенты, присоединившиеся в более поздние когорты.\n",
    "\n",
    "• Количество digital-активных клиентов также увеличивается со временем, однако оно значительно ниже, чем количество транзакционно активных клиентов. Это может свидетельствовать о том, что многие клиенты не используют мобильное приложение для совершения транзакций.\n",
    "### 2. Если построить проникновение транзакционно активных клиентов в когорты диджитал активных клиентов, то мы увидим, что существенная часть клиентов использует мобильное приложение, но не совершает транзакции (платежи и переводы) в нем.\n",
    "Гипотезы о том, почему многие клиенты используют мобильное приложение, но не совершают транзакции в нем, могут быть следующими:\n",
    "\n",
    "• Клиенты могут использовать мобильное приложение для просмотра баланса и истории транзакций, но предпочитают совершать транзакции через другие каналы, например, через Интернет-банк или в отделении банка.\n",
    "\n",
    "• Мобильное приложение может быть неудобным для совершения транзакций, например, из-за ограничений в функционале или сложности в использовании.\n",
    "\n",
    "• Клиенты могут не доверять мобильному приложению или опасаться потери денег при совершении транзакций через мобильное приложение.\n",
    "Для проверки этих гипотез можно провести опрос клиентов, чтобы понять :\n",
    "\n",
    "-почему они не совершают транзакции через мобильное приложение ?\n",
    "\n",
    "-какие могут быть причины такого поведения?\n",
    "### 3. Для увеличения проникновения транзакционно активных клиентов в digital-активных клиентов можно предпринять следующие меры:\n",
    "\n",
    "• Улучшить функционал мобильного приложения, чтобы клиенты могли совершать все необходимые транзакции через него и не приходилось использовать другие каналы.\n",
    "\n",
    "• Разработать более удобный и интуитивно понятный интерфейс мобильного приложения для клиентов, который будет стимулировать их использовать его для совершения транзакций.\n",
    "\n",
    "• Произвести рекламную кампанию в цифровых каналах для привлечения новых клиентов, которые будут использовать мобильное приложение не только для просмотра баланса и перевода денег на другие карты, но и для оплаты товаров и услуг в интернете.\n",
    "\n",
    "• Внедрить новые функциональные возможности мобильного приложения, которые будут стимулировать клиентов к использованию его для совершения транзакций. Например, внедрить систему кэшбэков или скидок за оплату товаров и услуг через приложение, предоставлять дополнительные возможности для управления картой и счетом в приложении.\n",
    "\n",
    "• Произвести обучение клиентов использованию мобильного приложения для совершения транзакций, например, провести онлайн-вебинары или создать обучающие видеоуроки.\n",
    "### В целом, для увеличения проникновения транзакционно активных клиентов в диджитал активные необходимо проводить комплексную работу, включающую не только технические усовершенствования приложения, но и маркетинговые мероприятия и обучение клиентов.\n",
    "\n"
   ]
  },
  {
   "cell_type": "code",
   "execution_count": null,
   "id": "3f7f72cc",
   "metadata": {},
   "outputs": [],
   "source": []
  }
 ],
 "metadata": {
  "colab": {
   "provenance": []
  },
  "kernelspec": {
   "display_name": "Python 3 (ipykernel)",
   "language": "python",
   "name": "python3"
  },
  "language_info": {
   "codemirror_mode": {
    "name": "ipython",
    "version": 3
   },
   "file_extension": ".py",
   "mimetype": "text/x-python",
   "name": "python",
   "nbconvert_exporter": "python",
   "pygments_lexer": "ipython3",
   "version": "3.9.12"
  }
 },
 "nbformat": 4,
 "nbformat_minor": 5
}
